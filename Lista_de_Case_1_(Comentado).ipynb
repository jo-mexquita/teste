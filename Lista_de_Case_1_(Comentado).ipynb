{
  "nbformat": 4,
  "nbformat_minor": 0,
  "metadata": {
    "colab": {
      "provenance": [],
      "toc_visible": true,
      "authorship_tag": "ABX9TyM5Wt065QqG20yJni0CbPcx",
      "include_colab_link": true
    },
    "kernelspec": {
      "name": "python3",
      "display_name": "Python 3"
    },
    "language_info": {
      "name": "python"
    }
  },
  "cells": [
    {
      "cell_type": "markdown",
      "metadata": {
        "id": "view-in-github",
        "colab_type": "text"
      },
      "source": [
        "<a href=\"https://colab.research.google.com/github/jo-mexquita/teste/blob/main/Lista_de_Case_1_(Comentado).ipynb\" target=\"_parent\"><img src=\"https://colab.research.google.com/assets/colab-badge.svg\" alt=\"Open In Colab\"/></a>"
      ]
    },
    {
      "cell_type": "markdown",
      "source": [
        "#Lista de exercícios - Cases"
      ],
      "metadata": {
        "id": "UmsKmfmwULWe"
      }
    },
    {
      "cell_type": "markdown",
      "source": [
        "# Case 1"
      ],
      "metadata": {
        "id": "-2QuUBDEbW9F"
      }
    },
    {
      "cell_type": "markdown",
      "source": [
        "## Questão 1\n",
        "Uma empresa te enviou 3 listas, uma representa a largura, outra representa a altura e a terceira representa a área em m2 de determinado terreno, todas estão ordenadas entretanto tem alguns valores faltantes que precisam ser preenchidos, preencha os valores faltantes: Todos os terrenos dessa empresa são retangulares e você pode utilizar a fórmula abaixo:\n",
        "a = b. h (área = largura * altura)\n",
        "Utilize as listas abaixo:\n",
        "```\n",
        "area = [200,'null',720,1500,1000,275,'null',1200,2400,'null'] \n",
        "altura = ['null',30,40,30,10,25,33,'null',12,20] \n",
        "largura = [20,20,'null',50,100,'null',30,100,200,10]\n",
        "```"
      ],
      "metadata": {
        "id": "8eb1NOipTSiO"
      }
    },
    {
      "cell_type": "code",
      "source": [
        "\n",
        "area = [200,'null',720,1500,1000,275,'null',1200,2400,'null'] \n",
        "altura = ['null',30,40,30,10,25,33,'null',12,20] \n",
        "largura = [20,20,'null',50,100,'null',30,100,200,10]\n",
        "\n",
        "def preencher (a,b,h):\n",
        "  area_full = []\n",
        "  largura_full = []\n",
        "  altura_full = []\n",
        "  for area,largura,altura in zip(a,b,h):\n",
        "    if type(area) != int:\n",
        "      area_full.append(int(largura*altura))\n",
        "    else:\n",
        "      area_full.append(area)\n",
        "    if type(largura) != int:\n",
        "      largura_full.append(int(area/altura))\n",
        "    else:\n",
        "      largura_full.append(largura)\n",
        "    if type(altura) != int:\n",
        "      altura_full.append(int(area/largura))\n",
        "    else:\n",
        "      altura_full.append(altura)\n",
        "  return (area_full, largura_full, altura_full)\n",
        "\n",
        "(area, largura, altura) = preencher (area, largura, altura)\n",
        "print(area)\n",
        "print(largura)\n",
        "print(altura)"
      ],
      "metadata": {
        "colab": {
          "base_uri": "https://localhost:8080/"
        },
        "id": "LYGZeGgyUgZn",
        "outputId": "a494e70d-cbb4-41ec-8ae9-a04caed1f1cd"
      },
      "execution_count": null,
      "outputs": [
        {
          "output_type": "stream",
          "name": "stdout",
          "text": [
            "[200, 600, 720, 1500, 1000, 275, 990, 1200, 2400, 200]\n",
            "[20, 20, 18, 50, 100, 11, 30, 100, 200, 10]\n",
            "[10, 30, 40, 30, 10, 25, 33, 12, 12, 20]\n"
          ]
        }
      ]
    },
    {
      "cell_type": "markdown",
      "source": [
        "## Questão 2\n",
        "Geralmente os Terrenos possuem maior altura ou largura? Utilize as listas completas geradas no exercício anterior:"
      ],
      "metadata": {
        "id": "fDgm2bxVUha3"
      }
    },
    {
      "cell_type": "code",
      "source": [
        "print('Média em m2 de altura:',sum(altura)/len(altura))\n",
        "print('Média em m2 de largura:',sum(largura)/len(largura))"
      ],
      "metadata": {
        "colab": {
          "base_uri": "https://localhost:8080/"
        },
        "id": "yrFrOUkUUucm",
        "outputId": "39bc71e9-55c1-4882-9a30-fadad3b94485"
      },
      "execution_count": null,
      "outputs": [
        {
          "output_type": "stream",
          "name": "stdout",
          "text": [
            "Média em m2 de altura: 22.2\n",
            "Média em m2 de largura: 55.9\n"
          ]
        }
      ]
    },
    {
      "cell_type": "markdown",
      "source": [
        "## Questão 3\n",
        "Quantos metros a empresa tem no total e qual é a média de tamanho dos terrenos? Utilize as listas completas geradas no primeiro exercício"
      ],
      "metadata": {
        "id": "nA7Ap4BQUxfX"
      }
    },
    {
      "cell_type": "code",
      "source": [
        "print('Metragem total:',sum(area))\n",
        "print('Média total dos terrenos',sum(area),len(area),'m2')"
      ],
      "metadata": {
        "colab": {
          "base_uri": "https://localhost:8080/"
        },
        "id": "1N_E66MhVKJ2",
        "outputId": "c4905da7-4ea1-47d1-b39f-708c2061414e"
      },
      "execution_count": null,
      "outputs": [
        {
          "output_type": "stream",
          "name": "stdout",
          "text": [
            "Metragem total: 9085\n",
            "Média total dos terrenos 9085 10 m2\n"
          ]
        }
      ]
    },
    {
      "cell_type": "markdown",
      "source": [
        "# Case 2"
      ],
      "metadata": {
        "id": "zSrC-qlBbrac"
      }
    },
    {
      "cell_type": "markdown",
      "source": [
        "## Questão 1\n",
        "Você recebeu um arquivo chamado usuarios_feedback, nesse arquivo contém o comentário, nome, gênero e nota de usuários referente a um produto de sua empresas. Você precisa verificar quais as palavras que mais apareceram nos comentários:\n",
        "\n",
        "`usuarios_feedback = [\n",
        "{'nome':'Peter','nota':9,'genero':'M','comentario':'bom demais e agil'}, {'nome':'Joao','nota':10,'genero':'M','comentario':'agil e eficiente'}, {'nome':'user_not_found','nota':0,'genero':'M','comentario':'Horrível'}, {'nome':'Marta','nota':10,'genero':'F','comentario':'muito agil bom demais'}, {'nome':'Beatriz','nota':10,'genero':'F','comentario':'rápido e eficaz'}, {'nome':'user_not_found','nota':2,'genero':'M','comentario':'ruim'}, {'nome':'Jéssica','nota':10,'genero':'F','comentario':'agil'}, {'nome':'José','nota':7,'genero':'M','comentario':'ok'}, {'nome':'Elias','nota':5,'genero':'M','comentario':'precisa melhorar'}, {'nome':'Miriã','nota':9,'genero':'F','comentario':'foi muito agil e rápido'}, {'nome':'Maria','nota':10,'genero':'F','comentario':'muito bom e agil'}]`"
      ],
      "metadata": {
        "id": "usYaz4GBbtFE"
      }
    },
    {
      "cell_type": "code",
      "source": [
        "usuarios_feedback = [{'nome':'Peter','nota':9,'genero':'M','comentario':'bom demais e agil'}, {'nome':'Joao','nota':10,'genero':'M','comentario':'agil e eficiente'}, {'nome':'user_not_found','nota':0,'genero':'M','comentario':'Horrível'}, {'nome':'Marta','nota':10,'genero':'F','comentario':'muito agil bom demais'}, {'nome':'Beatriz','nota':10,'genero':'F','comentario':'rápido e eficaz'}, {'nome':'user_not_found','nota':2,'genero':'M','comentario':'ruim'}, {'nome':'Jéssica','nota':10,'genero':'F','comentario':'agil'}, {'nome':'José','nota':7,'genero':'M','comentario':'ok'}, {'nome':'Elias','nota':5,'genero':'M','comentario':'precisa melhorar'}, {'nome':'Miriã','nota':9,'genero':'F','comentario':'foi muito agil e rápido'}, {'nome':'Maria','nota':10,'genero':'F','comentario':'muito bom e agil'}]"
      ],
      "metadata": {
        "id": "cdlefZTec5l9"
      },
      "execution_count": null,
      "outputs": []
    },
    {
      "cell_type": "code",
      "source": [
        "def conta_frequencia (x):\n",
        "  todas_palavras = []\n",
        "  for user in x:\n",
        "    todas_palavras.extend(user['comentario'].split())\n",
        "    uniqwords = sorted(set(todas_palavras))\n",
        "  for word in uniqwords:\n",
        "    if word != 'e':\n",
        "      print(todas_palavras.count(word), word)\n",
        "conta_frequencia(usuarios_feedback)"
      ],
      "metadata": {
        "colab": {
          "base_uri": "https://localhost:8080/"
        },
        "id": "8xXand_gdoBs",
        "outputId": "c48f226e-b710-4359-d96e-959f7ec31055"
      },
      "execution_count": null,
      "outputs": [
        {
          "output_type": "stream",
          "name": "stdout",
          "text": [
            "1 Horrível\n",
            "6 agil\n",
            "3 bom\n",
            "2 demais\n",
            "1 eficaz\n",
            "1 eficiente\n",
            "1 foi\n",
            "1 melhorar\n",
            "3 muito\n",
            "1 ok\n",
            "1 precisa\n",
            "1 ruim\n",
            "2 rápido\n"
          ]
        }
      ]
    },
    {
      "cell_type": "markdown",
      "source": [
        "## Questão 2\n",
        "Usando o mesmo arquivo, calcular a média das notas separadas por gênero:"
      ],
      "metadata": {
        "id": "Z9fSdEN4dFY8"
      }
    },
    {
      "cell_type": "code",
      "source": [
        "def notas (x):\n",
        "  m = []\n",
        "  f = []\n",
        "  for a in x:\n",
        "    if a['genero'] == 'M':\n",
        "      m.append(a['nota'])\n",
        "    elif a['genero'] == 'F':\n",
        "      f.append(a['nota'])\n",
        "  print('Média masculina:', sum(m)/len(m))\n",
        "  print('Média feminina:', sum(f)/len(f))\n",
        "  return m,f\n",
        "masc, fem = notas (usuarios_feedback)\n",
        "print(masc,fem)"
      ],
      "metadata": {
        "colab": {
          "base_uri": "https://localhost:8080/"
        },
        "id": "Ik3WLCokdQOM",
        "outputId": "185bd8e5-b072-4378-c787-c51d713d94ad"
      },
      "execution_count": null,
      "outputs": [
        {
          "output_type": "stream",
          "name": "stdout",
          "text": [
            "Média masculina: 5.5\n",
            "Média feminina: 9.8\n",
            "[9, 10, 0, 2, 7, 5] [10, 10, 10, 9, 10]\n"
          ]
        }
      ]
    },
    {
      "cell_type": "markdown",
      "source": [
        "# Case 3"
      ],
      "metadata": {
        "id": "mYKZ0CP2lDpy"
      }
    },
    {
      "cell_type": "markdown",
      "source": [
        "## Questão 1\n",
        "Sua empresa te passou uma lista com requisições de treinamentos (muitos repetidos), você tem que definir o cenário que melhor atenda os pedidos, o budget é de 150 moedas e você tem um dicionário que contém o nome do treinamento e o valor dele:\n",
        "`treinamentos = [{'treinamento':'Scrum','moedas':30}, {'treinamento':'Data Science','moedas':40}, {'treinamento':'Gestão de Projetos','moedas':50}, {'treinamento':'Marketing','moedas':30}, {'treinamento':'Cloud','moedas':20}, {'treinamento':'Blockchain','moedas':10}, {'treinamento':'Python','moedas':30}] pedidos = ['Scrum','Data Science','Gestão de Projetos','Marketing','Cloud','Python','Python','Python', 'Scrum','Data Science','Gestão de Projetos','Marketing','Data Science','Gestão de Projetos', 'Python','Marketing','Data Science','Gestão de Projetos','Data Science','Gestão de Projetos','Data Science']`"
      ],
      "metadata": {
        "id": "G6OOOMs4lFLQ"
      }
    },
    {
      "cell_type": "code",
      "source": [
        "treinamentos = [\n",
        "    {'treinamento':'Scrum','moedas':30}, \n",
        "    {'treinamento':'Data Science','moedas':40}, \n",
        "    {'treinamento':'Gestão de Projetos','moedas':50}, \n",
        "    {'treinamento':'Marketing','moedas':30}, \n",
        "    {'treinamento':'Cloud','moedas':20}, \n",
        "    {'treinamento':'Blockchain','moedas':10}, \n",
        "    {'treinamento':'Python','moedas':30}]\n",
        "pedidos = ['Scrum','Data Science','Gestão de Projetos','Marketing','Cloud',\n",
        "           'Python','Python','Python', 'Scrum','Data Science','Gestão de Projetos',\n",
        "           'Marketing','Data Science','Gestão de Projetos', 'Python','Marketing','Data Science',\n",
        "           'Gestão de Projetos','Data Science','Gestão de Projetos','Data Science']"
      ],
      "metadata": {
        "id": "bIxS00-WlsU5"
      },
      "execution_count": null,
      "outputs": []
    },
    {
      "cell_type": "code",
      "source": [
        "def get_value (x,b):\n",
        "  for a in x:\n",
        "    if a['treinamento'] in b:\n",
        "      print('valor:',a['moedas'])\n",
        "      return a['moedas']\n",
        "\n",
        "ped = sorted(set(pedidos))\n",
        "for a in ped:\n",
        "  print('Solicitações', pedidos.count(a), '\\ntreinamento:', a)\n",
        "  valor = get_value(treinamentos, a)\n",
        "  for b in treinamentos:\n",
        "    if a == b['treinamento']:\n",
        "      b['total_pedidos'] = pedidos.count(a)"
      ],
      "metadata": {
        "colab": {
          "base_uri": "https://localhost:8080/"
        },
        "id": "kJNAFS5Vl7ZZ",
        "outputId": "f488e676-07cc-4e4a-b667-1c970c21e956"
      },
      "execution_count": null,
      "outputs": [
        {
          "output_type": "stream",
          "name": "stdout",
          "text": [
            "Solicitações 1 \n",
            "treinamento: Cloud\n",
            "valor: 20\n",
            "Solicitações 6 \n",
            "treinamento: Data Science\n",
            "valor: 40\n",
            "Solicitações 5 \n",
            "treinamento: Gestão de Projetos\n",
            "valor: 50\n",
            "Solicitações 3 \n",
            "treinamento: Marketing\n",
            "valor: 30\n",
            "Solicitações 4 \n",
            "treinamento: Python\n",
            "valor: 30\n",
            "Solicitações 2 \n",
            "treinamento: Scrum\n",
            "valor: 30\n"
          ]
        }
      ]
    },
    {
      "cell_type": "markdown",
      "source": [
        "Estratégia: atender ao maior número de pedidos:"
      ],
      "metadata": {
        "id": "Kkdv-vdypgpf"
      }
    },
    {
      "cell_type": "code",
      "source": [
        "budget = 150\n",
        "count = 6\n",
        "total = []\n",
        "\n",
        "while budget > 0:\n",
        "  for a in treinamentos:\n",
        "    qtd = a.get('total_pedidos',0)\n",
        "    if qtd == count:\n",
        "      print('treiamento', a['treinamento'], 'comprado')\n",
        "      total.append(qtd)\n",
        "      budget = budget - a['moedas']\n",
        "      count = count - 1\n",
        "    else:\n",
        "      continue\n",
        "print('total de pedidos atendidos', sum(total)/len(pedidos), '% de atendimento')"
      ],
      "metadata": {
        "colab": {
          "base_uri": "https://localhost:8080/"
        },
        "id": "Nw0US5jPpnKQ",
        "outputId": "96c08757-95f5-4c7a-fdb6-a2dabb79f3c7"
      },
      "execution_count": null,
      "outputs": [
        {
          "output_type": "stream",
          "name": "stdout",
          "text": [
            "treiamento Data Science comprado\n",
            "treiamento Gestão de Projetos comprado\n",
            "treiamento Python comprado\n",
            "treiamento Marketing comprado\n",
            "total de pedidos atendidos 0.8571428571428571 % de atendimento\n"
          ]
        }
      ]
    }
  ]
}